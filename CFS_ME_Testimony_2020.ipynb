{
  "nbformat": 4,
  "nbformat_minor": 0,
  "metadata": {
    "colab": {
      "name": "CFS/ME_Testimony_2020",
      "private_outputs": true,
      "provenance": [],
      "collapsed_sections": [],
      "machine_shape": "hm"
    },
    "kernelspec": {
      "name": "python3",
      "display_name": "Python 3"
    },
    "accelerator": "GPU"
  },
  "cells": [
    {
      "cell_type": "markdown",
      "metadata": {
        "id": "H7LoMj4GA4n_"
      },
      "source": [
        "# CFS/ME Testimony (2020 Edition)\n",
        "\n",
        "***\n",
        "\n",
        "## GPT2-774M model, fine-tuned on all public information and papers (up to 2021) related to Chronic Fatigue Syndrome/Myalgic Encephalomyelitis\n",
        "\n",
        "***\n",
        "\n",
        "### Project Los Angeles\n",
        "\n",
        "### Tegridy Code 2021\n"
      ]
    },
    {
      "cell_type": "markdown",
      "metadata": {
        "id": "DPLwl0DtWmDw"
      },
      "source": [
        "# Setup"
      ]
    },
    {
      "cell_type": "code",
      "metadata": {
        "id": "bH7rV3s4Rq0F",
        "cellView": "form"
      },
      "source": [
        "#@title Check GPU\n",
        "!nvidia-smi"
      ],
      "execution_count": null,
      "outputs": []
    },
    {
      "cell_type": "code",
      "metadata": {
        "id": "KBkpRgBCBS2_",
        "cellView": "form"
      },
      "source": [
        "#@title Setup environment\n",
        "%tensorflow_version 1.x\n",
        "!pip install -q gpt-2-simple\n",
        "import gpt_2_simple as gpt2\n",
        "from datetime import datetime\n",
        "from google.colab import files"
      ],
      "execution_count": null,
      "outputs": []
    },
    {
      "cell_type": "code",
      "metadata": {
        "id": "jnU17K7uSMOm",
        "cellView": "form"
      },
      "source": [
        "#@title Download and untar fine-tuned GPT2-774M model\n",
        "%cd /content/\n",
        "!wget --no-check-certificate -O CFSMETestimony2020.tar \"https://onedrive.live.com/download?cid=8A0D502FC99C608F&resid=8A0D502FC99C608F%2118467&authkey=AL4M5qofOfArnoA\"\n",
        "!tar -xvf /content/CFSMETestimony2020.tar"
      ],
      "execution_count": null,
      "outputs": []
    },
    {
      "cell_type": "code",
      "metadata": {
        "id": "-fxL77nvAMAX",
        "cellView": "form"
      },
      "source": [
        "#@title Load the model\n",
        "sess = gpt2.start_tf_sess()\n",
        "gpt2.load_gpt2(sess, run_name='CFSMETestimony')"
      ],
      "execution_count": null,
      "outputs": []
    },
    {
      "cell_type": "markdown",
      "metadata": {
        "id": "-NUNKpFOWohw"
      },
      "source": [
        "# Generation"
      ]
    },
    {
      "cell_type": "code",
      "metadata": {
        "id": "8DKMc0fiej4N",
        "cellView": "form"
      },
      "source": [
        "#@title Talk to the model\n",
        "\n",
        "input_prompt = \"What is the best possible treatment for CFS/ME? Thank you.\" #@param {type:\"string\"}\n",
        "desired_length_of_output_in_tokens = 1024 #@param {type:\"slider\", min:8, max:1024, step:8}\n",
        "creativity_temperature = 0.8 #@param {type:\"slider\", min:0.05, max:1, step:0.05}\n",
        "\n",
        "gpt2.generate(sess,\n",
        "              run_name='CFSMETestimony',\n",
        "              top_k=64,\n",
        "              length=desired_length_of_output_in_tokens,\n",
        "              temperature=creativity_temperature,\n",
        "              prefix=input_prompt,\n",
        "              nsamples=5,\n",
        "              batch_size=5\n",
        "              )"
      ],
      "execution_count": null,
      "outputs": []
    },
    {
      "cell_type": "markdown",
      "metadata": {
        "id": "vfyhvNJ2WyeE"
      },
      "source": [
        "# LICENSE"
      ]
    },
    {
      "cell_type": "markdown",
      "metadata": {
        "id": "wmTXWNUygS5E"
      },
      "source": [
        "MIT License\n",
        "\n",
        "Copyright (c) 2021 Project Los Angeles\n",
        "\n",
        "Permission is hereby granted, free of charge, to any person obtaining a copy\n",
        "of this software and associated documentation files (the \"Software\"), to deal\n",
        "in the Software without restriction, including without limitation the rights\n",
        "to use, copy, modify, merge, publish, distribute, sublicense, and/or sell\n",
        "copies of the Software, and to permit persons to whom the Software is\n",
        "furnished to do so, subject to the following conditions:\n",
        "\n",
        "The above copyright notice and this permission notice shall be included in all\n",
        "copies or substantial portions of the Software.\n",
        "\n",
        "THE SOFTWARE IS PROVIDED \"AS IS\", WITHOUT WARRANTY OF ANY KIND, EXPRESS OR\n",
        "IMPLIED, INCLUDING BUT NOT LIMITED TO THE WARRANTIES OF MERCHANTABILITY,\n",
        "FITNESS FOR A PARTICULAR PURPOSE AND NONINFRINGEMENT. IN NO EVENT SHALL THE\n",
        "AUTHORS OR COPYRIGHT HOLDERS BE LIABLE FOR ANY CLAIM, DAMAGES OR OTHER\n",
        "LIABILITY, WHETHER IN AN ACTION OF CONTRACT, TORT OR OTHERWISE, ARISING FROM,\n",
        "OUT OF OR IN CONNECTION WITH THE SOFTWARE OR THE USE OR OTHER DEALINGS IN THE\n",
        "SOFTWARE."
      ]
    }
  ]
}